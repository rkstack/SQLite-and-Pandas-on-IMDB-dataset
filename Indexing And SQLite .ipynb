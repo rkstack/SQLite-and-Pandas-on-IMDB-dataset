{
 "cells": [
  {
   "cell_type": "markdown",
   "metadata": {},
   "source": [
    "##  Indexing & SQLite "
   ]
  },
  {
   "cell_type": "markdown",
   "metadata": {},
   "source": [
    "IMDB.sqlite' database contains all details of movies and has three tables with name IMDB, genre and earning."
   ]
  },
  {
   "cell_type": "markdown",
   "metadata": {},
   "source": [
    "### Count Genre"
   ]
  },
  {
   "cell_type": "markdown",
   "metadata": {},
   "source": [
    "Find the count of each genre present in IMDB movie dataset?\n",
    "Print the Genre and number of movies present in that genre.\n",
    "Note: Ignore the empty value present in genre.\n",
    "Output Format:\n",
    "\n",
    "genre_1 num_movie_1\n",
    "\n",
    "genre_2 num_movie_2"
   ]
  },
  {
   "cell_type": "code",
   "execution_count": 1,
   "metadata": {},
   "outputs": [
    {
     "name": "stdout",
     "output_type": "stream",
     "text": [
      "Action 33\n",
      "Adventure 43\n",
      "Animation 13\n",
      "Biography 21\n",
      "Comedy 31\n",
      "Crime 11\n",
      "Drama 77\n",
      "Family 3\n",
      "Fantasy 7\n",
      "History 6\n",
      "Horror 2\n",
      "Music 3\n",
      "Musical 1\n",
      "Mystery 7\n",
      "Romance 13\n",
      "Sci-Fi 18\n",
      "Sport 3\n",
      "Thriller 14\n",
      "War 2\n",
      "Western 2\n"
     ]
    }
   ],
   "source": [
    "import sqlite3\n",
    "import pandas as pd\n",
    "db=sqlite3.connect('IMDB.sqlite')\n",
    "cur=db.cursor()\n",
    "val=cur.execute('select genre,count(*) from genre group by genre')\n",
    "\n",
    "df=pd.DataFrame(val)\n",
    "df=df[df[0]!='']\n",
    "\n",
    "for i in range(df.shape[0]):\n",
    "    print(df.iloc[i][0],df.iloc[i][1])"
   ]
  },
  {
   "cell_type": "markdown",
   "metadata": {},
   "source": [
    "### IMDB Movie "
   ]
  },
  {
   "cell_type": "markdown",
   "metadata": {},
   "source": [
    "Find the highest-grossing movie (i.e domestic earning + worldwide earning) in IMDB database.\n",
    "Print the rating of that movie.\n",
    "Output Format:\n",
    "\n",
    "rating\n"
   ]
  },
  {
   "cell_type": "code",
   "execution_count": 2,
   "metadata": {},
   "outputs": [
    {
     "name": "stdout",
     "output_type": "stream",
     "text": [
      "8.1\n"
     ]
    }
   ],
   "source": [
    "import sqlite3\n",
    "import pandas as pd\n",
    "\n",
    "db=sqlite3.connect('IMDB.sqlite')\n",
    "cur=db.cursor()\n",
    "\n",
    "data=cur.execute('select earning.movie_id,IMDB.rating,earning.domestic,earning.worldwide from IMDB inner join earning on IMDB.movie_id=earning.movie_id')\n",
    "df=pd.DataFrame(data)\n",
    "df['earning']=df[2]+df[3]\n",
    "df=df[df.earning==df.earning.describe().max()]\n",
    "print(df.iloc[0][1])"
   ]
  },
  {
   "cell_type": "markdown",
   "metadata": {},
   "source": [
    "### IMDB Voted"
   ]
  },
  {
   "cell_type": "markdown",
   "metadata": {},
   "source": [
    "Find the most voted movie in IMDB Movie Database.\n",
    "Print the movie name and the rating of that movie.\n",
    "Output Format:\n",
    "\n",
    "movie_name rating\n"
   ]
  },
  {
   "cell_type": "code",
   "execution_count": 3,
   "metadata": {},
   "outputs": [
    {
     "name": "stdout",
     "output_type": "stream",
     "text": [
      "Inception (2010) 8.8\n"
     ]
    }
   ],
   "source": [
    "import sqlite3\n",
    "import pandas as pd\n",
    "\n",
    "db=sqlite3.connect('IMDB.sqlite')\n",
    "cur=db.cursor()\n",
    "var=cur.execute('select title, rating,max(totalvotes) from imdb ')\n",
    "\n",
    "for j in var:\n",
    "    print(j[0],j[1])"
   ]
  },
  {
   "cell_type": "markdown",
   "metadata": {},
   "source": [
    "### IMDB running time"
   ]
  },
  {
   "cell_type": "markdown",
   "metadata": {},
   "source": [
    "Find the Movie with Longest-Running Time from IMDB Movie database.\n",
    "Print the name of movie and running time as integer value.\n",
    "Note: Don't print 'min' in running time.\n",
    "Output Format:\n",
    "\n",
    "movie_name running_time\n"
   ]
  },
  {
   "cell_type": "code",
   "execution_count": 4,
   "metadata": {},
   "outputs": [
    {
     "name": "stdout",
     "output_type": "stream",
     "text": [
      "The Wolf of Wall Street (2013) 180\n"
     ]
    }
   ],
   "source": [
    "import sqlite3\n",
    "import pandas as pd\n",
    "\n",
    "db=sqlite3.connect('IMDB.sqlite')\n",
    "cur=db.cursor()\n",
    "curvar=cur.execute('select title, runtime from imdb ')\n",
    "\n",
    "# convert into a dataframe\n",
    "df=pd.DataFrame(curvar)\n",
    "#assign headings\n",
    "df.columns=['title','runtime']\n",
    "#split runtime and take [0] value from expanded array and convert to float and update runtime column\n",
    "df['runtime']=df.runtime.str.split(expand=True)[0].astype(float)  \n",
    "\n",
    "#first get an array of index of max value of each column and \n",
    "#then this index is fed to df.loc to get the max value of each column\n",
    "\n",
    "value=df.loc[df['runtime'].idxmax()]\n",
    "print(value[0],int(value[1]))"
   ]
  },
  {
   "cell_type": "markdown",
   "metadata": {},
   "source": [
    "### IMDB profit "
   ]
  },
  {
   "cell_type": "markdown",
   "metadata": {},
   "source": [
    "Find the movie which has maximum net profit in IMDB Movie Database.\n",
    "Print the movie name.\n",
    "Note: Net Profit= Total Earning(Domestic+WorldWide earning) - budget\n",
    "Output Format:\n",
    "\n",
    "movie_name\n"
   ]
  },
  {
   "cell_type": "code",
   "execution_count": 7,
   "metadata": {},
   "outputs": [
    {
     "name": "stdout",
     "output_type": "stream",
     "text": [
      "Star Wars: The Force Awakens (2015)\n"
     ]
    }
   ],
   "source": [
    "import sqlite3\n",
    "import pandas as pd\n",
    "\n",
    "db=sqlite3.connect('IMDB.sqlite')\n",
    "cur=db.cursor()\n",
    "data=cur.execute('select imdb.title,imdb.budget,earning.domestic,earning.worldwide from imdb inner join earning on imdb.movie_id=earning.movie_id')\n",
    "df=pd.DataFrame(data)\n",
    "df.columns=['title','budget','rdomestic','rworldwide']\n",
    "df=df[df.budget!='']\n",
    "\n",
    "\n",
    "df['profit']=df['rdomestic']+df['rworldwide']-df['budget']\n",
    "\n",
    "df=df[df.profit==df.profit.max()]\n",
    "print(df.iloc[0][0])"
   ]
  },
  {
   "cell_type": "markdown",
   "metadata": {},
   "source": [
    "### IMDB least budget"
   ]
  },
  {
   "cell_type": "markdown",
   "metadata": {},
   "source": [
    "Find the least budgeted movie in IMDB Movie Database.\n",
    "If there is more than one least budgeted movies then print the movie which has maximum net profit.\n",
    "Note: Net Profit= Total Earning(Domestic+WorldWide earning) - budget\n",
    "Output Format:\n",
    "\n",
    "movie_name\n"
   ]
  },
  {
   "cell_type": "code",
   "execution_count": 1,
   "metadata": {},
   "outputs": [
    {
     "name": "stdout",
     "output_type": "stream",
     "text": [
      "Short Term 12 (2013)\n"
     ]
    }
   ],
   "source": [
    "import sqlite3\n",
    "import pandas as pd\n",
    "\n",
    "db=sqlite3.connect('IMDB.sqlite')\n",
    "cur=db.cursor()\n",
    "data=cur.execute('select imdb.title,imdb.budget,earning.domestic,earning.worldwide from imdb inner join earning on imdb.movie_id=earning.movie_id')\n",
    "df=pd.DataFrame(data)\n",
    "df.columns=['title','budget','rdomestic','rworldwide']\n",
    "df=df[df.budget!='']                                        # filter empty values\n",
    "df.sort_values('budget',ascending=False,inplace=True)       # sort values in descending order to get last few entries\n",
    "df=df.tail(2)                                               # get last two entry of same least budget                                   \n",
    "df['profit']=df['rdomestic']+df['rworldwide']-df['budget']  # get profit values\n",
    "df=df[df.profit==df.profit.max()]                           # find max profit entry \n",
    "print(df.iloc[0][0])\n"
   ]
  },
  {
   "cell_type": "markdown",
   "metadata": {},
   "source": [
    "###  IMDB Year Top "
   ]
  },
  {
   "cell_type": "markdown",
   "metadata": {},
   "source": [
    "Find the highest-grossing movie (i.e domestic earning + worldwide earning) in IMDB database year wise.\n",
    "Print the Year and name of the movie which was the highest grosser in that year.\n",
    "Note:Print the year in ascending order.\n",
    "Output Format:\n",
    "\n",
    "year_1 name_movie_1\n",
    "\n",
    "year_2 name_movie_2\n",
    "\n",
    "year_3 name_movie_3"
   ]
  },
  {
   "cell_type": "code",
   "execution_count": 2,
   "metadata": {},
   "outputs": [
    {
     "name": "stdout",
     "output_type": "stream",
     "text": [
      "2010 Toy Story 3 (2010)\n",
      "2011 Rise of the Planet of the Apes (2011)\n",
      "2012 The Avengers (2012)\n",
      "2013 The Hunger Games: Catching Fire (2013)\n",
      "2014 Guardians of the Galaxy (2014)\n",
      "2015 Star Wars: The Force Awakens (2015)\n",
      "2016 Rogue One (2016)\n"
     ]
    }
   ],
   "source": [
    "import sqlite3\n",
    "import pandas as pd\n",
    "\n",
    "db=sqlite3.connect('IMDB.sqlite')\n",
    "cur=db.cursor()\n",
    "data=cur.execute('select imdb.title,earning.domestic,earning.worldwide from imdb inner join earning on imdb.movie_id=earning.movie_id')\n",
    "df=pd.DataFrame(data)\n",
    "df.columns=['title','domestic','worldwide']\n",
    "\n",
    "# split title and take 2nd value and strip ')' from year string\n",
    "df['year']=df.title.str.split('(',expand=True)[1].str.strip(')')   \n",
    "df['grossing']=df['domestic']+df['worldwide']\n",
    "# handle one anamolous entry in year\n",
    "df['year'].replace('The Unexpected Virtue of Ignorance','2014',inplace=True)\n",
    "# sort by grossing\n",
    "df.sort_values('grossing',ascending=False,inplace=True)\n",
    "# use group by function and get first entry from each group, first entry will be max due to ascending order.\n",
    "df_1=df.groupby('year',as_index=False).first()\n",
    "for i in range(7):\n",
    "    print(df_1['year'][i],df_1['title'][i])"
   ]
  },
  {
   "cell_type": "markdown",
   "metadata": {},
   "source": [
    "### IMDB genre budget"
   ]
  },
  {
   "cell_type": "markdown",
   "metadata": {},
   "source": [
    "Find out the percentage of the budget for each genre in IMDB Movie Dataset?Plot the pie chart.\n",
    "Print the genre and percentage of movies budget present in that genre with 2 decimal place after rounding off..\n",
    "Note: Movies has multiple genres, so calculate the percentage for each genre.Replace empty budget column to zero.\n",
    "Output Format:\n",
    "\n",
    "genre_1 percent_1\n",
    "\n",
    "genre_2 percent_2"
   ]
  },
  {
   "cell_type": "code",
   "execution_count": 3,
   "metadata": {},
   "outputs": [
    {
     "data": {
      "image/png": "[encoded data removed]",
      "text/plain": [
       "<Figure size 432x288 with 1 Axes>"
      ]
     },
     "metadata": {},
     "output_type": "display_data"
    },
    {
     "name": "stdout",
     "output_type": "stream",
     "text": [
      "Adventure 25.10\n",
      "Action 17.98\n",
      "Drama 10.85\n",
      "Sci-Fi 10.77\n",
      "Animation 7.66\n",
      "Comedy 7.22\n",
      "Fantasy 4.54\n",
      "Thriller 3.99\n",
      "Biography 2.59\n",
      "Mystery 1.95\n",
      "Family 1.91\n",
      "Crime 1.77\n",
      "Romance 1.12\n",
      "History 0.72\n",
      "Western 0.57\n",
      "Sport 0.46\n",
      "War 0.36\n",
      "Musical 0.25\n",
      "Music 0.15\n",
      "Horror 0.03\n"
     ]
    }
   ],
   "source": [
    "import sqlite3\n",
    "import pandas as pd\n",
    "import matplotlib.pyplot as plt\n",
    "\n",
    "db=sqlite3.connect('IMDB.sqlite')\n",
    "cur=db.cursor()\n",
    "data=cur.execute('select genre.genre,IMDB.budget from genre inner join IMDB on genre.movie_id=IMDB.movie_id')\n",
    "df=pd.DataFrame(data)\n",
    "df.columns=['genre','budget']\n",
    "\n",
    "# replace null value of budget by 0\n",
    "df['budget'].replace('',0, inplace=True)\n",
    "# filter empty genre entries\n",
    "df=df[df['genre']!='']\n",
    "# group by genre and summing up budget using sum ()\n",
    "df=df.groupby(by='genre',as_index=False).sum()\n",
    "\n",
    "# sort values by budget, ignore for submission\n",
    "df.sort_values(by='budget',ascending=False,ignore_index=True,inplace=True)\n",
    "\n",
    "plt.pie(df['budget'],labels=df['genre'],autopct='%0.2f%%')\n",
    "plt.title('Genre distribution of budget in percentage')\n",
    "plt.show()\n",
    "\n",
    "# \"{:.2f}\".format((df.budget[i]*100)/(df['budget'].sum())) is used for percetage calculation.\n",
    "\n",
    "for i in  range (20):\n",
    "     print(df.genre[i],\"{:.2f}\".format((df.budget[i]*100)/(df['budget'].sum())))"
   ]
  },
  {
   "cell_type": "markdown",
   "metadata": {},
   "source": [
    "### IMDB genre earning"
   ]
  },
  {
   "cell_type": "markdown",
   "metadata": {},
   "source": [
    "Find out the percentage of the total earning for each genre in IMDB Movie Dataset?Plot the pie chart.\n",
    "Print the genre and percentage of movies total earning present in that genre with 2 decimal place after rounding off.\n",
    "Note: Movies has multiple genres, so calculate the percentage for each genre.Total Earning=Domestic earning + WorldWide earning.\n",
    "Output Format:\n",
    "\n",
    "genre_1 percent_1\n",
    "\n",
    "genre_2 percent_2"
   ]
  },
  {
   "cell_type": "code",
   "execution_count": 5,
   "metadata": {},
   "outputs": [
    {
     "data": {
      "image/png": "[encoded data removed]",
      "text/plain": [
       "<Figure size 432x288 with 1 Axes>"
      ]
     },
     "metadata": {},
     "output_type": "display_data"
    },
    {
     "name": "stdout",
     "output_type": "stream",
     "text": [
      "Action 17.91\n",
      "Adventure 23.57\n",
      "Animation 6.77\n",
      "Biography 3.42\n",
      "Comedy 7.69\n",
      "Crime 1.55\n",
      "Drama 11.96\n",
      "Family 1.05\n",
      "Fantasy 5.15\n",
      "History 1.04\n",
      "Horror 0.01\n",
      "Music 0.43\n",
      "Musical 0.38\n",
      "Mystery 2.01\n",
      "Romance 1.45\n",
      "Sci-Fi 9.95\n",
      "Sport 0.32\n",
      "Thriller 4.42\n",
      "War 0.25\n",
      "Western 0.65\n"
     ]
    }
   ],
   "source": [
    "# code is very similar to previous example\n",
    "\n",
    "import sqlite3\n",
    "import pandas as pd\n",
    "import matplotlib.pyplot as plt\n",
    "\n",
    "db=sqlite3.connect('IMDB.sqlite')\n",
    "cur=db.cursor()\n",
    "data=cur.execute('select genre.genre,earning.domestic,earning.worldwide from genre inner join earning on genre.movie_id=earning.movie_id')\n",
    "df=pd.DataFrame(data)\n",
    "df.columns=['genre','domestic','worldwide']\n",
    "df['earning']=df['domestic']+df['worldwide']\n",
    "\n",
    "df=df[df['genre']!='']\n",
    "df=df.groupby(by='genre',as_index=False).sum()\n",
    "\n",
    "#df.sort_values(by='earning',ascending=False,ignore_index=True,inplace=True)\n",
    "\n",
    "plt.pie(df['earning'],labels=df['genre'],autopct='%0.2f%%')\n",
    "plt.title('Earning distribution across genre')\n",
    "plt.show()\n",
    "\n",
    "\n",
    "for i in  range (20):\n",
    "     print(df.genre[i],\"{:.2f}\".format((df.earning[i]*100)/(df['earning'].sum())))"
   ]
  },
  {
   "cell_type": "markdown",
   "metadata": {},
   "source": [
    "### IMDB Specific Genre"
   ]
  },
  {
   "cell_type": "markdown",
   "metadata": {},
   "source": [
    "Find the movie which has genre of 'Sci-Fi' and 'Mystery' and movie rating is greater or equal to 8 from IMDB Movie Database.\n",
    "Print the movie name.\n",
    "Movies has multiple genre.\n",
    "Output Format:\n",
    "\n",
    "movie_name\n",
    "\n"
   ]
  },
  {
   "cell_type": "code",
   "execution_count": 6,
   "metadata": {},
   "outputs": [
    {
     "name": "stdout",
     "output_type": "stream",
     "text": [
      "Arrival (2016)\n"
     ]
    }
   ],
   "source": [
    "import sqlite3\n",
    "import pandas as pd\n",
    "\n",
    "db=sqlite3.connect('IMDB.sqlite')\n",
    "cur=db.cursor()\n",
    "\n",
    "# use of left outer join query to get the desired data\n",
    "data=cur.execute(\"select genre.genre,imdb.title,imdb.rating from genre left join imdb on genre.movie_id=imdb.movie_id and imdb.rating >= 8 and (genre.genre='Sci-Fi' or genre.genre='Mystery')\" )\n",
    "df=pd.DataFrame(data)\n",
    "df.columns=['genre','title','rating']\n",
    "df=df[df['rating']>=8.0]   #Filter\n",
    "arr=df.title.value_counts()  # unique count of title in descending order in an array\n",
    "print(arr.index[0])        # index of first count is printed as it had two genre "
   ]
  },
  {
   "cell_type": "markdown",
   "metadata": {},
   "source": [
    "### This coding was done by @RK2021"
   ]
  }
 ],
 "metadata": {
  "kernelspec": {
   "display_name": "Python 3",
   "language": "python",
   "name": "python3"
  },
  "language_info": {
   "codemirror_mode": {
    "name": "ipython",
    "version": 3
   },
   "file_extension": ".py",
   "mimetype": "text/x-python",
   "name": "python",
   "nbconvert_exporter": "python",
   "pygments_lexer": "ipython3",
   "version": "3.8.5"
  }
 },
 "nbformat": 4,
 "nbformat_minor": 4
}

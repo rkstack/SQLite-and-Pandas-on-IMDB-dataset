{
 "cells": [
  {
   "cell_type": "markdown",
   "metadata": {},
   "source": [
    "### Performing simple sqlite operations in python"
   ]
  },
  {
   "cell_type": "code",
   "execution_count": 1,
   "metadata": {},
   "outputs": [],
   "source": [
    "import sqlite3 \n",
    "\n",
    "# making sqlite3 connection object\n",
    "db=sqlite3.connect('Employee sqlite')\n",
    "\n",
    "# making a cursor object\n",
    "\n",
    "cur=db.cursor()\n",
    "\n",
    "# storing a sqlite query in variable\n",
    "sql_query='create table EmployeeDetail (employeeid int Primary Key, name text, age int, department text, salary int)'\n",
    "\n",
    "# execute the sqlite query using variable\n",
    "cur.execute(sql_query)\n",
    "\n",
    "# execution of sqlite query directly\n",
    "\n",
    "cur.execute('insert into employeedetail values(100,\"Rishav\",25,\"Marketing\",50000)')\n",
    "\n",
    "# commit a query to database in order to make changes in database\n",
    "db.commit()\n",
    "\n",
    "# more single line query execution\n",
    "cur.execute('insert into employeedetail values(101,\"Abhishek\",26,\"Operations\",60000)')\n",
    "cur.execute('insert into employeedetail values(102,\"Aman\",24,\"Human Resource\",75000)')\n",
    "\n",
    "db.commit()\n",
    "\n",
    "cur.execute('delete from employeedetail where employeeid=101')\n",
    "\n",
    "# single line query execution using parameters\n",
    "value=102\n",
    "cur.execute('delete from employeedetail where employeeid=?',(value,))\n",
    "\n"
   ]
  },
  {
   "cell_type": "code",
   "execution_count": 17,
   "metadata": {},
   "outputs": [],
   "source": [
    "# Multiple query execution at once using list of tuples\n",
    "\n",
    "employee_id=[101,102,103,104,105,106,107,108,109,110,111,112]\n",
    "name=['Aadarsh','Aarti','Siddharth','Aman','Amit','Shivansh','Vaibhav','Himanshu','Raman','Kunal','Adhira','Tanya']\n",
    "age=[25,27,25,24,30,26,23,26,25,26,29,24]\n",
    "department=['Marketing','Operations','Finance','Human Resource','Marketing','IT','Finance','IT','Operations','Marketing','Human Resource','Marketing']\n",
    "salary=[50000,60000,85000,75000,50000,90000,85000,90000,60000,50000,75000,50000]\n",
    "\n",
    "\n",
    "# create a list of tuple\n",
    "value=[]\n",
    "for i in range(10):\n",
    "    tup=(employee_id[i],name[i],age[i],department[i],salary[i])\n",
    "    value.append(tup)\n",
    "    \n",
    "    "
   ]
  },
  {
   "cell_type": "code",
   "execution_count": 18,
   "metadata": {},
   "outputs": [
    {
     "data": {
      "text/plain": [
       "<sqlite3.Cursor at 0x261c692aea0>"
      ]
     },
     "execution_count": 18,
     "metadata": {},
     "output_type": "execute_result"
    }
   ],
   "source": [
    "# execute the multiple query using execute many\n",
    "\n",
    "cur.executemany('insert into employeedetail values(?,?,?,?,?)',value)\n",
    "\n",
    "db.commit()"
   ]
  },
  {
   "cell_type": "markdown",
   "metadata": {},
   "source": [
    "##### This coding was done by @RK2021"
   ]
  }
 ],
 "metadata": {
  "kernelspec": {
   "display_name": "Python 3",
   "language": "python",
   "name": "python3"
  },
  "language_info": {
   "codemirror_mode": {
    "name": "ipython",
    "version": 3
   },
   "file_extension": ".py",
   "mimetype": "text/x-python",
   "name": "python",
   "nbconvert_exporter": "python",
   "pygments_lexer": "ipython3",
   "version": "3.8.5"
  }
 },
 "nbformat": 4,
 "nbformat_minor": 4
}
